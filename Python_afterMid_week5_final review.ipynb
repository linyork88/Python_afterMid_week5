{
 "cells": [
  {
   "cell_type": "code",
   "execution_count": 8,
   "metadata": {},
   "outputs": [],
   "source": [
    "list2=[[22,33],[44,55,66],[77,88]]"
   ]
  },
  {
   "cell_type": "code",
   "execution_count": 9,
   "metadata": {},
   "outputs": [
    {
     "name": "stdout",
     "output_type": "stream",
     "text": [
      "22\n",
      "33\n",
      "44\n",
      "55\n",
      "66\n",
      "77\n",
      "88\n"
     ]
    }
   ],
   "source": [
    "for i in range(0, len(list2)):\n",
    "    for j in range(0, len(list2[i])):\n",
    "        print(list2[i][j])"
   ]
  },
  {
   "cell_type": "code",
   "execution_count": 11,
   "metadata": {},
   "outputs": [
    {
     "name": "stdout",
     "output_type": "stream",
     "text": [
      "22\n",
      "33\n",
      "44\n",
      "55\n",
      "66\n",
      "77\n",
      "88\n"
     ]
    }
   ],
   "source": [
    "for item1 in list2:\n",
    "    for item2 in item1:\n",
    "        print(item2)"
   ]
  },
  {
   "cell_type": "code",
   "execution_count": 13,
   "metadata": {},
   "outputs": [],
   "source": [
    "list3=[[11,22],[33,[44,55,66]]]"
   ]
  },
  {
   "cell_type": "code",
   "execution_count": 29,
   "metadata": {},
   "outputs": [
    {
     "name": "stdout",
     "output_type": "stream",
     "text": [
      "11\n",
      "33\n",
      "66\n",
      "231\n"
     ]
    }
   ],
   "source": [
    "total=0\n",
    "for i in range(0,len(list3)):\n",
    "    for j in range(0,len(list3[i])):\n",
    "        if (isinstance(list3[i][j],int)):\n",
    "            total+=list3[i][j]\n",
    "        elif(isinstance(list3[i][j],list)):\n",
    "            for k in range(0,len(list3[i][j])):\n",
    "                total+=list3[i][j][k]\n",
    "        print(total)"
   ]
  },
  {
   "cell_type": "code",
   "execution_count": 32,
   "metadata": {},
   "outputs": [
    {
     "name": "stdout",
     "output_type": "stream",
     "text": [
      "187\n"
     ]
    }
   ],
   "source": [
    "total = 0\n",
    "for i in range(0, len(list3)):\n",
    "    if(isinstance(list3[i][len(list3[i])-1], int)):\n",
    "        total = total + list3[i][j]\n",
    "    elif(isinstance(list3[i][len(list3[i])-1], list)):\n",
    "        for k in range(0, len(list3[i][j])):\n",
    "            total = total +list3[i][j][k]\n",
    "print(total)"
   ]
  },
  {
   "cell_type": "code",
   "execution_count": 50,
   "metadata": {},
   "outputs": [
    {
     "name": "stdout",
     "output_type": "stream",
     "text": [
      "***********第1次執行***********\n",
      "原始 0 0 11\n",
      "0 1 22\n",
      "***********第2次執行***********\n",
      "原始 0 1 22\n",
      "0 1 22\n",
      "***********第3次執行***********\n",
      "原始 1 0 33\n",
      "1 1 [44, 55, 66]\n",
      "***********第4次執行***********\n",
      "原始 1 1 [44, 55, 66]\n",
      "1 1 [44, 55, 66]\n"
     ]
    }
   ],
   "source": [
    "x=0\n",
    "for i in range(0, len(list3)):\n",
    "    for j in range(0,len(list3[i])):\n",
    "        x+=1\n",
    "        print(\"***********第%d次執行***********\"%(x))\n",
    "        print(\"原始\",i,j,list3[i][j])\n",
    "        print(i,len(list3[i])-1,list3[i][len(list3[i])-1])"
   ]
  },
  {
   "cell_type": "code",
   "execution_count": 47,
   "metadata": {},
   "outputs": [
    {
     "data": {
      "text/plain": [
       "2"
      ]
     },
     "execution_count": 47,
     "metadata": {},
     "output_type": "execute_result"
    }
   ],
   "source": []
  }
 ],
 "metadata": {
  "kernelspec": {
   "display_name": "Python 3",
   "language": "python",
   "name": "python3"
  },
  "language_info": {
   "codemirror_mode": {
    "name": "ipython",
    "version": 3
   },
   "file_extension": ".py",
   "mimetype": "text/x-python",
   "name": "python",
   "nbconvert_exporter": "python",
   "pygments_lexer": "ipython3",
   "version": "3.7.3"
  }
 },
 "nbformat": 4,
 "nbformat_minor": 2
}
